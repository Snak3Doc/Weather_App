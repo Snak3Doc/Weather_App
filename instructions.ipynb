{
 "cells": [
  {
   "attachments": {},
   "cell_type": "markdown",
   "metadata": {},
   "source": [
    "<h1 style=\"color: #5c940d;\">Weather App Project</h1>\n",
    "<h2 style=\"color: #4dabf7;\">Description</h2>\n",
    "- The app will allow the user to enter a city using the format \"City Name, Country Code\" for example \"Hanoi, VN\" or \"New York, US\"\n",
    "- It will retrieve weather data for that city using an API request to openweathermaps.com\n",
    "- Below you can see an example of the data we will display and the user interface\n",
    "![My Remote Image](https://i.imgur.com/j1Lebma.png)"
   ]
  },
  {
   "attachments": {},
   "cell_type": "markdown",
   "metadata": {},
   "source": [
    "<h1 style=\"color: #5c940d;\">Instructions</h1>\n",
    "<h2 style=\"color: #4dabf7;\">Requirements</h2>\n",
    "\n",
    "- openweathermap API key\n",
    "- requests (install using pip)\n",
    "- PyQt6\n",
    "- pathlib\n",
    "- dotenv\n",
    "- json\n",
    "- os\n",
    "- sys\n",
    "\n",
    "<h2 style=\"color: #4dabf7;\">Getting an API Key</h2>\n",
    "\n",
    "- Goto https://openweathermap.org\n",
    "- Create an account and choose the free version\n",
    "- Goto https://home.openweathermap.org/api_keys to get your API key, its a string of\n",
    "numbers and letters (Note it will take up to 2 hours for your key to activate)\n",
    "\n",
    "<h2 style=\"color: #4dabf7;\">Basic Window Setup</h2>\n",
    "\n",
    "- Below you will find the boilerplate for our app, it will create an empty window for us to create our app in.\n",
    "- Try running the code below and see what it does.\n",
    "\n",
    "    ![My Remote Image](https://i.imgur.com/eFp6nci.png)\n",
    "\n",
    "- Create a file called `main.py` and paste the boilerplate into it."
   ]
  },
  {
   "cell_type": "code",
   "execution_count": null,
   "metadata": {},
   "outputs": [],
   "source": [
    "\n",
    "#TODO: Add boilerplate when you have finished editing it."
   ]
  },
  {
   "attachments": {},
   "cell_type": "markdown",
   "metadata": {},
   "source": [
    "<h2 style=\"color: #4dabf7;\">Building the User Interface</h2>\n",
    "\n",
    "- Before we can start coding the UI we need to design it and create logical names for our layout objects, luckily the design team has provided us with a design but you can make your own design using https://excalidraw.com\n",
    "- Note that all the widgets are color coded, orange is user input, blue is user action, purple is data output and green is a static visual element.\n",
    "- Dashed white lines are Boxlayouts you can tell if they are a `QHBoxLayout` or a `QVBoxLayout` by the shape, wide is a horizontal layout and tall is vertical layout.\n",
    "- The section marked WIP (Work in Progress) is an extension project you can try after finishing the main part of the project.\n",
    "<p align=\"center\">\n",
    "  <img src=\"https://i.imgur.com/IwTqhq3.png\" alt=\"My Remote Image\" />\n",
    "</p>\n",
    "\n",
    "<h3 style=\"color: #4dabf7;\">Naming Conventions</h3>\n",
    "<h4>Naming Widgets</h4>\n",
    "\n",
    "Widgets shold be named using the format `type_description` for example `btn_search = QPushButton(\"Search\")`.\n",
    "- `QPushButton > btn`\n",
    "- `QTextEdit > txt`\n",
    "- `QLabel > lbl`\n",
    "\n",
    "<h4>Naming Layouts</h4>\n",
    "\n",
    "Layouts shold be named using the format `lyt_location_description` look at the ui design picture above to see suggestions for layout names.\n",
    "\n",
    "<h3 style=\"color: #4dabf7;\">Creating the Search UI</h3>\n",
    "\n",
    "We will be working in the `## Search UI` section.\n",
    " ```python\n",
    " ## Search UI\n",
    " # Widgets\n",
    " # Layouts\n",
    " # Setup\n",
    " ```\n",
    "<h4># Widgets</h4>\n",
    "\n",
    "- Create the text entry widget, using the naming convention mnetioned above we would name it `txt_search`\n",
    "- Create the search button widget.\n",
    "\n",
    "<h4># Layouts</h4>\n",
    "\n",
    "- Check the UI Design picture above to know if the layout is a `QHBoxLayout()` or a `QVBoxLayout()`, if the layout rectanlge is `wide` it's a `QH`, if the layout rectanlge is `tall` it's a `QV`.\n",
    "- Create the `lyt_main_search` layout.\n",
    "\n",
    "<h4># Setup</h4>\n",
    "\n",
    "- Check the UI Design picture above for the order the widgets need to be added to the layout.\n",
    "- Add both widgets to the `lyt_main_search`.\n",
    "\n",
    "*format: `lyt_name.addWidget(widget_name)`*\n",
    "\n",
    "\n",
    "\n",
    "\n"
   ]
  }
 ],
 "metadata": {
  "kernelspec": {
   "display_name": "Python 3",
   "language": "python",
   "name": "python3"
  },
  "language_info": {
   "codemirror_mode": {
    "name": "ipython",
    "version": 3
   },
   "file_extension": ".py",
   "mimetype": "text/x-python",
   "name": "python",
   "nbconvert_exporter": "python",
   "pygments_lexer": "ipython3",
   "version": "3.11.0"
  },
  "orig_nbformat": 4
 },
 "nbformat": 4,
 "nbformat_minor": 2
}
